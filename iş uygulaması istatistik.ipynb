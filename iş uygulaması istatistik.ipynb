{
 "cells": [
  {
   "cell_type": "code",
   "execution_count": 1,
   "id": "7c7b158f-436e-432a-8845-c28c1e799bcf",
   "metadata": {},
   "outputs": [],
   "source": [
    "#Problem:\n",
    "#CEO fiyat belirleme konusunda bilimsel bir dayanak ve esneklik isteniyor"
   ]
  },
  {
   "cell_type": "code",
   "execution_count": 2,
   "id": "cf171e2b-58f5-4be3-adc2-7a7e230ce8f8",
   "metadata": {},
   "outputs": [],
   "source": [
    "#Detaylar:\n",
    "# Satıcı, alıcı ve bir ürün var.\n",
    "# Alıcılara ürüne ne kadar ücret öderdiniz diye soruluyor. Kimse kimin ne fiyat verdiğini bilmiyor\n",
    "# Optimum fiyat bilimsel ve esnek olarak bulunmak isteniyor"
   ]
  },
  {
   "cell_type": "code",
   "execution_count": 3,
   "id": "d7ad0346-a79e-46f4-afb5-77a626428a67",
   "metadata": {},
   "outputs": [],
   "source": [
    "## İŞ UYGULAMASI : Fiyat Stratejisi Karar Destek\n",
    "#Alıcıya ürünü gösterelim, vermeyi göze alacağı fiyatı soralım:"
   ]
  },
  {
   "cell_type": "code",
   "execution_count": 4,
   "id": "dedab8af-8a76-4048-b56a-1117de96e992",
   "metadata": {},
   "outputs": [],
   "source": [
    "import numpy as np\n",
    "fiyatlar = np.random.randint(10,110,1000)"
   ]
  },
  {
   "cell_type": "code",
   "execution_count": 5,
   "id": "e451930a-6ba4-4475-b409-66272d83a946",
   "metadata": {},
   "outputs": [
    {
     "data": {
      "text/plain": [
       "60.554"
      ]
     },
     "execution_count": 5,
     "metadata": {},
     "output_type": "execute_result"
    }
   ],
   "source": [
    "fiyatlar.mean()"
   ]
  },
  {
   "cell_type": "code",
   "execution_count": 6,
   "id": "078b0a9f-bb18-4c2c-a299-6241663c3a2b",
   "metadata": {},
   "outputs": [],
   "source": [
    "import statsmodels.stats.api as sms"
   ]
  },
  {
   "cell_type": "code",
   "execution_count": 7,
   "id": "60a83498-6eb0-44f9-af22-84d949f72c54",
   "metadata": {},
   "outputs": [
    {
     "data": {
      "text/plain": [
       "(58.75141350192542, 62.356586498074584)"
      ]
     },
     "execution_count": 7,
     "metadata": {},
     "output_type": "execute_result"
    }
   ],
   "source": [
    "sms.DescrStatsW(fiyatlar).tconfint_mean()"
   ]
  },
  {
   "cell_type": "code",
   "execution_count": null,
   "id": "c6a45450-fc70-4889-ad68-419683b322c5",
   "metadata": {},
   "outputs": [],
   "source": []
  },
  {
   "cell_type": "code",
   "execution_count": null,
   "id": "2462f0d6-e782-4fc3-873b-8093368f8372",
   "metadata": {},
   "outputs": [],
   "source": []
  },
  {
   "cell_type": "code",
   "execution_count": null,
   "id": "e394fa1e-2ed8-496f-8128-00e0b49e2639",
   "metadata": {},
   "outputs": [],
   "source": []
  },
  {
   "cell_type": "code",
   "execution_count": null,
   "id": "d32c3a8e-af90-4b21-a0f1-e8291df1890b",
   "metadata": {},
   "outputs": [],
   "source": []
  },
  {
   "cell_type": "code",
   "execution_count": null,
   "id": "96a5239b-baf4-43c9-841d-79ede017f065",
   "metadata": {},
   "outputs": [],
   "source": []
  },
  {
   "cell_type": "code",
   "execution_count": null,
   "id": "549c7ef0-335d-45f6-85b2-0cd372b67b90",
   "metadata": {},
   "outputs": [],
   "source": []
  },
  {
   "cell_type": "code",
   "execution_count": null,
   "id": "c2f19e13-9c9c-4c36-b775-ccd2a57369d2",
   "metadata": {},
   "outputs": [],
   "source": []
  },
  {
   "cell_type": "code",
   "execution_count": null,
   "id": "d5c4be2a-7322-4836-ab93-1f761f0d7c1f",
   "metadata": {},
   "outputs": [],
   "source": []
  }
 ],
 "metadata": {
  "kernelspec": {
   "display_name": "Python 3 (ipykernel)",
   "language": "python",
   "name": "python3"
  },
  "language_info": {
   "codemirror_mode": {
    "name": "ipython",
    "version": 3
   },
   "file_extension": ".py",
   "mimetype": "text/x-python",
   "name": "python",
   "nbconvert_exporter": "python",
   "pygments_lexer": "ipython3",
   "version": "3.9.13"
  }
 },
 "nbformat": 4,
 "nbformat_minor": 5
}
